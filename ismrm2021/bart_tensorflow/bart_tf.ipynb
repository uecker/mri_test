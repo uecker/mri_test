{
 "cells": [
  {
   "cell_type": "markdown",
   "id": "11904043",
   "metadata": {
    "id": "11904043"
   },
   "source": [
    "# Enhance bart with tf computation graph\n",
    "\n",
    "**Authors**: [Guanxiong Luo](mailto:guanxiong.luo@med.uni-goettingen.de); [Nick Scholand](mailto:nick.scholand@med.uni-goettingen.de); [Christian Holme](mailto:christian.holme@med.uni-goettingen.de).\n",
    "\n",
    "**Presenter**: [Guanxiong Luo](mailto:guanxiong.luo@med.uni-goettingen.de).\n",
    "\n",
    "**Institution**: University Medical Center Göttingen\n",
    "\n",
    "## Overview\n",
    "This tutorial is to present how to create regularization term with tensorflow and use it for image reconstruction in bart.\n",
    "\n",
    "<img src=\"over.png\" width=\"800\"/>\n",
    "\n",
    "## What we have\n",
    "TensorFlow provides C API that can be used to build bindings for other languages. \n",
    "\n",
    "1. bart src/nn/tf_wrapper.c\n",
    "\n",
    "    * create tensors, create tf session\n",
    "\n",
    "    * import the exported graph\n",
    "\n",
    "    * restore the session from the saved model\n",
    "\n",
    "    * get operation nodes from the graph\n",
    "\n",
    "    * execute operation with session.run()\n",
    "\n",
    "\n",
    "2. TensorFlow C Libraries [2.4.0](https://storage.googleapis.com/tensorflow/libtensorflow/libtensorflow-gpu-linux-x86_64-2.4.0.tar.gz)\n",
    "\n",
    "3. A python program to export graph and weights (if any)\n",
    "\n",
    "## What you can do with tf graph\n",
    "\n",
    "1. we can create the regularization term $R(x)$ with tf graph for image reconstruction (integrated in bart pics).\n",
    "\n",
    "$$\\underset{x}{\\arg \\min}\\ \\|Ax-y\\|^2+\\lambda R(x)$$\n",
    "\n",
    "## What you can learn here\n",
    "\n",
    "1. simple example $R(x)=\\|x\\|^2$ without trainable weights\n",
    "\n",
    "2. $R(x)=\\log p(x, net(\\Theta,x))$ with trainable weights $\\Theta$, $net$ is represented as a prior [1]\n",
    "\n",
    "[1] Luo, G, Zhao, N, Jiang, W, Hui, ES, Cao, P. MRI reconstruction using deep Bayesian estimation. Magn Reson Med. 2020; 84: 2246– 2261. https://doi.org/10.1002/mrm.28274 <br />\n",
    "[2] Proc. Intl. Soc. Mag. Reson. Med. 29 (2021) P.1756"
   ]
  },
  {
   "cell_type": "markdown",
   "id": "3149b592",
   "metadata": {},
   "source": [
    "## Part 0: Fetch data"
   ]
  },
  {
   "cell_type": "code",
   "execution_count": 5,
   "id": "06f2c5c5",
   "metadata": {},
   "outputs": [
    {
     "name": "stdout",
     "output_type": "stream",
     "text": [
      "--2021-05-14 17:07:57--  https://raw.githubusercontent.com/mrirecon/bart-workshop/master/ismrm2021/bart_tensorflow/data.zip\n",
      "Resolving raw.githubusercontent.com (raw.githubusercontent.com)... 185.199.111.133, 185.199.110.133, 185.199.108.133, ...\n",
      "Connecting to raw.githubusercontent.com (raw.githubusercontent.com)|185.199.111.133|:443... connected.\n",
      "HTTP request sent, awaiting response... 200 OK\n",
      "Length: 38699214 (37M) [application/zip]\n",
      "Saving to: 'data.zip'\n",
      "\n",
      "data.zip            100%[===================>]  36.91M  67.2MB/s    in 0.5s    \n",
      "\n",
      "2021-05-14 17:07:58 (67.2 MB/s) - 'data.zip' saved [38699214/38699214]\n",
      "\n"
     ]
    }
   ],
   "source": [
    "! wget https://raw.githubusercontent.com/mrirecon/bart-workshop/master/ismrm2021/bart_tensorflow/data.zip\n",
    "! unzip data.zip"
   ]
  },
  {
   "cell_type": "markdown",
   "id": "3b544b17",
   "metadata": {
    "id": "3b544b17"
   },
   "source": [
    "## Part I: How to create tf graph for bart"
   ]
  },
  {
   "cell_type": "code",
   "execution_count": 6,
   "id": "d9a21c71",
   "metadata": {
    "id": "d9a21c71",
    "scrolled": true
   },
   "outputs": [],
   "source": [
    "import tensorflow.compat.v1 as tf\n",
    "tf.disable_eager_execution()\n",
    "\n",
    "if True:\n",
    "    import os\n",
    "    os.environ[\"CUDA_DEVICE_ORDER\"] = \"PCI_BUS_ID\"\n",
    "    os.environ[\"CUDA_VISIBLE_DEVICES\"] = \"0\"\n",
    "\n",
    "import numpy as np"
   ]
  },
  {
   "cell_type": "markdown",
   "id": "30b64c57",
   "metadata": {
    "id": "30b64c57"
   },
   "source": [
    "### Step 1: define input $x$"
   ]
  },
  {
   "cell_type": "code",
   "execution_count": 7,
   "id": "d4d77905",
   "metadata": {
    "id": "d4d77905"
   },
   "outputs": [],
   "source": [
    "image_shape = [256, 256, 2]\n",
    "batch_size = 1\n",
    "\n",
    "# CAPI -> TF_GraphOperationByName(graph, \"input_0\")\n",
    "# give name with input_0, ..., input_I \n",
    "x = tf.placeholder(tf.float32,\n",
    "                   shape=[batch_size]+image_shape,\n",
    "                   name='input_0')\n",
    "v = tf.Variable(1.)\n",
    "x = x * v"
   ]
  },
  {
   "cell_type": "markdown",
   "id": "8e2719ae",
   "metadata": {
    "id": "8e2719ae"
   },
   "source": [
    "### Step 2: define output $R(x)=\\|x\\|^2$"
   ]
  },
  {
   "cell_type": "code",
   "execution_count": 8,
   "id": "f2920129",
   "metadata": {
    "id": "f2920129"
   },
   "outputs": [],
   "source": [
    "l2 = tf.nn.l2_loss(x)#/np.product(image_shape)/batch_size        #R(x)=|x|^2\n",
    "# CAPI -> TF_GraphOperationByName(graph, \"output_0\") -> nlop forward\n",
    "# give name with output_0, ..., output_I\n",
    "output = tf.identity(tf.stack([l2, tf.ones_like(l2)], axis=-1), name='output_0') "
   ]
  },
  {
   "cell_type": "markdown",
   "id": "6e8f00fa",
   "metadata": {
    "id": "6e8f00fa"
   },
   "source": [
    "### Step 3: define the gradient of $R(x)=\\|x\\|^2$"
   ]
  },
  {
   "cell_type": "code",
   "execution_count": 9,
   "id": "2d24fc05",
   "metadata": {
    "id": "2d24fc05"
   },
   "outputs": [],
   "source": [
    "grad_ys = tf.placeholder(tf.float32,\n",
    "                         shape=[2],\n",
    "                         name='grad_ys_0')\n",
    "\n",
    "# CAPI -> TF_GraphOperationByName(graph, \"grad_0\") -> nlop adj\n",
    "grads = tf.squeeze(tf.gradients(output, x, grad_ys), name='grad_0') "
   ]
  },
  {
   "cell_type": "markdown",
   "id": "88c848b3",
   "metadata": {
    "id": "88c848b3"
   },
   "source": [
    "### Step 4: export graph and weights (if any)"
   ]
  },
  {
   "cell_type": "code",
   "execution_count": 11,
   "id": "b0acc0c0",
   "metadata": {
    "colab": {
     "base_uri": "https://localhost:8080/"
    },
    "id": "b0acc0c0",
    "outputId": "097bcdc1-597e-44d1-dd6c-3f72af686631"
   },
   "outputs": [
    {
     "name": "stdout",
     "output_type": "stream",
     "text": [
      "Exported\n"
     ]
    }
   ],
   "source": [
    "from utils import export_model\n",
    "# export_model(model_path, exported_path, name, as_text, use_gpu):\n",
    "\n",
    "export_model(None, \"./\", \"l2_toy\", as_text=False, use_gpu=False)"
   ]
  },
  {
   "cell_type": "code",
   "execution_count": 12,
   "id": "49f7dc3f",
   "metadata": {
    "colab": {
     "base_uri": "https://localhost:8080/"
    },
    "id": "49f7dc3f",
    "outputId": "e1ba81ad-466e-4025-cc2d-b1bd909b1052"
   },
   "outputs": [
    {
     "name": "stdout",
     "output_type": "stream",
     "text": [
      "__pycache__    data.zip\t\t\t   l2_toy.index  prior\r\n",
      "bart_tf.ipynb  ksp_256.cfl\t\t   l2_toy.meta\t traj_256.cfl\r\n",
      "checkpoint     ksp_256.hdr\t\t   l2_toy.pb\t traj_256.hdr\r\n",
      "clean\t       l2_toy.data-00000-of-00001  over.png\t utils.py\r\n"
     ]
    }
   ],
   "source": [
    "!ls"
   ]
  },
  {
   "cell_type": "code",
   "execution_count": 13,
   "id": "f465c6be",
   "metadata": {
    "colab": {
     "base_uri": "https://localhost:8080/"
    },
    "id": "f465c6be",
    "outputId": "7e6309b3-9757-4477-b3d1-5b897fa34e86"
   },
   "outputs": [
    {
     "data": {
      "text/plain": [
       "{'status': 'ok', 'restart': True}"
      ]
     },
     "execution_count": 13,
     "metadata": {},
     "output_type": "execute_result"
    }
   ],
   "source": [
    "# release the gpu\n",
    "import IPython\n",
    "IPython.Application.instance().kernel.do_shutdown(True) "
   ]
  },
  {
   "cell_type": "markdown",
   "id": "ce4a7796",
   "metadata": {
    "id": "ce4a7796"
   },
   "source": [
    "##  Part II: How to use the graph in bart"
   ]
  },
  {
   "cell_type": "markdown",
   "id": "f1bfbc28",
   "metadata": {
    "id": "f1bfbc28"
   },
   "source": [
    "###  Step 1: set bart"
   ]
  },
  {
   "cell_type": "code",
   "execution_count": null,
   "id": "1ea147d2",
   "metadata": {
    "colab": {
     "base_uri": "https://localhost:8080/"
    },
    "id": "1ea147d2",
    "outputId": "b9282bf9-f5cb-4cdd-d582-28f43aeafc5b"
   },
   "outputs": [],
   "source": [
    "%%bash\n",
    "\n",
    "# Download tensorflow c libraries\n",
    "wget https://storage.googleapis.com/tensorflow/libtensorflow/libtensorflow-gpu-linux-x86_64-2.4.0.tar.gz\n",
    "mkdir tensorflow && tar -C tensorflow -xvzf libtensorflow-gpu-linux-x86_64-2.4.0.tar.gz"
   ]
  },
  {
   "cell_type": "code",
   "execution_count": null,
   "id": "146d0092",
   "metadata": {
    "colab": {
     "base_uri": "https://localhost:8080/"
    },
    "id": "146d0092",
    "outputId": "1cc31796-3323-463c-eb24-110209259b4c"
   },
   "outputs": [],
   "source": [
    "%%bash\n",
    "\n",
    "# Estimate GPU Type\n",
    "GPU_NAME=$(nvidia-smi --query-gpu=gpu_name --format=csv,noheader)\n",
    "\n",
    "echo \"GPU Type:\"\n",
    "echo $GPU_NAME\n",
    "\n",
    "if [ \"Tesla K80\" = \"$GPU_NAME\" ];\n",
    "then\n",
    "    echo \"GPU type Tesla K80 does not support CUDA 11. Set CUDA to version 10.1.\"\n",
    "\n",
    "    # Install CUDA-10.1 if not already installed\n",
    "    apt-get install cuda-10-1 cuda-drivers &> /dev/null\n",
    "\n",
    "    # Change default CUDA to version 10.1\n",
    "    cd /usr/local\n",
    "    rm cuda\n",
    "    ln -s cuda-10.1 cuda\n",
    "    cd /content\n",
    "\n",
    "else\n",
    "    echo \"GPU Information:\"\n",
    "    nvidia-smi --query-gpu=gpu_name,driver_version,memory.total --format=csv\n",
    "    nvcc --version\n",
    "    echo \"Current GPU supports default CUDA-11.\"\n",
    "    echo \"No further actions are necessary.\"\n",
    "fi\n",
    "\n",
    "\n",
    "# Install BARTs dependencies\n",
    "apt-get install -y make gcc libfftw3-dev liblapacke-dev libpng-dev libopenblas-dev &> /dev/null\n",
    "\n",
    "# Download BART version\n",
    "BRANCH=master\n",
    "[ -d /content/bart ] && rm -r /content/bart\n",
    "git clone https://github.com/mrirecon/bart/ bart\n",
    "\n",
    "[ -d \"bart\" ] && echo \"BART branch ${BRANCH} was downloaded successfully.\"\n",
    "\n",
    "cd bart\n",
    "\n",
    "# Switch to desired branch of the BART project\n",
    "git checkout $BRANCH\n",
    "\n",
    "# Define specifications \n",
    "COMPILE_SPECS=\" PARALLEL=4\n",
    "                CUDA=1\n",
    "                CUDA_BASE=/usr/local/cuda\n",
    "                CUDA_LIB=lib64\n",
    "                TENSORFLOW=1\n",
    "                TENSORFLOW_BASE=../tensorflow/\"\n",
    "\n",
    "printf \"%s\\n\" $COMPILE_SPECS > Makefiles/Makefile.local\n",
    "\n",
    "make &> /dev/null"
   ]
  },
  {
   "cell_type": "code",
   "execution_count": null,
   "id": "1cOk227HH3Vv",
   "metadata": {
    "colab": {
     "base_uri": "https://localhost:8080/"
    },
    "id": "1cOk227HH3Vv",
    "outputId": "7a1d4b1c-d32b-4bbe-ed32-707b7e8f6c5b"
   },
   "outputs": [],
   "source": [
    "%env LIBRARY_PATH=$LIBRARY_PATH:/content/tensorflow/include \n",
    "%env LD_LIBRARY_PATH=$LD_LIBRARY_PATH:/content/tensorflow/lib\n",
    "%env TF_CPP_MIN_LOG_LEVEL=3"
   ]
  },
  {
   "cell_type": "code",
   "execution_count": null,
   "id": "0RI9l6blElDF",
   "metadata": {
    "id": "0RI9l6blElDF"
   },
   "outputs": [],
   "source": [
    "import os\n",
    "import sys\n",
    "\n",
    "if not('TOOLBOX_PATH' in os.environ):\n",
    "    os.environ['TOOLBOX_PATH'] = \"/content/bart\"\n",
    "os.environ['PATH'] = os.environ['TOOLBOX_PATH'] + \":\" + os.environ['PATH']\n",
    "sys.path.append(os.environ['TOOLBOX_PATH'] + \"/python/\")"
   ]
  },
  {
   "cell_type": "markdown",
   "id": "743c3f4a",
   "metadata": {
    "id": "743c3f4a"
   },
   "source": [
    "### Step 2: check help info"
   ]
  },
  {
   "cell_type": "code",
   "execution_count": null,
   "id": "1f613571",
   "metadata": {
    "colab": {
     "base_uri": "https://localhost:8080/"
    },
    "id": "1f613571",
    "outputId": "6429ff8b-7993-4dd9-c841-dbb152c5c843",
    "scrolled": true
   },
   "outputs": [],
   "source": [
    "!bart pics -Rh"
   ]
  },
  {
   "cell_type": "markdown",
   "id": "dd4b2e2a",
   "metadata": {
    "id": "dd4b2e2a"
   },
   "source": [
    "proximal operation on $R(x)$\n",
    "\n",
    "$$\\hat{x}=\\underset{x}{\\arg \\min} \\|x-v\\|^2 + \\lambda R(x)$$"
   ]
  },
  {
   "cell_type": "markdown",
   "id": "0e14c927",
   "metadata": {
    "id": "0e14c927"
   },
   "source": [
    "### Step 3: extract radial spokes and compute coil sensitivities"
   ]
  },
  {
   "cell_type": "code",
   "execution_count": null,
   "id": "7942ccc3",
   "metadata": {
    "id": "7942ccc3"
   },
   "outputs": [],
   "source": [
    "%%bash\n",
    "# prepare coil sensitivities and radial spokes\n",
    "# explain the dimensions\n",
    "spokes=60\n",
    "nx=256\n",
    "\n",
    "bart extract 2 0 $spokes ksp_256 ksp_256_c\n",
    "bart extract 2 0 $spokes traj_256 traj_256_c"
   ]
  },
  {
   "cell_type": "code",
   "execution_count": null,
   "id": "d8c01fb3",
   "metadata": {
    "id": "d8c01fb3"
   },
   "outputs": [],
   "source": [
    "!head -n2 ksp_256_c.hdr"
   ]
  },
  {
   "cell_type": "code",
   "execution_count": null,
   "id": "7ca46fd4",
   "metadata": {
    "id": "7ca46fd4"
   },
   "outputs": [],
   "source": [
    "%%bash \n",
    "\n",
    "bart nufft -i traj_256_c ksp_256_c zero_filled\n",
    "bart fft $(bart bitmask 0 1) zero_filled grid_ksp\n",
    "bart ecalib -r20 -m1 -c0.0001 grid_ksp coilsen_esp"
   ]
  },
  {
   "cell_type": "markdown",
   "id": "3fcd3a99",
   "metadata": {
    "id": "3fcd3a99"
   },
   "source": [
    "## Example 1: $R(x)=\\|x\\|^2$"
   ]
  },
  {
   "cell_type": "code",
   "execution_count": null,
   "id": "334b8029",
   "metadata": {
    "id": "334b8029"
   },
   "outputs": [],
   "source": [
    "!bart pics -i100 -R TF:{$(pwd)/l2_toy}:0.02 -d5 -e -t traj_256_c ksp_256_c coilsen_esp l2_pics_tf"
   ]
  },
  {
   "cell_type": "code",
   "execution_count": null,
   "id": "4d9f2471",
   "metadata": {
    "id": "4d9f2471"
   },
   "outputs": [],
   "source": [
    "!bart pics -l2 0.01 -e -d5 -t traj_256_c ksp_256_c coilsen_esp l2_pics"
   ]
  },
  {
   "cell_type": "code",
   "execution_count": null,
   "id": "029c7626",
   "metadata": {
    "id": "029c7626"
   },
   "outputs": [],
   "source": [
    "from utils import *\n",
    "import matplotlib.pyplot as plt\n",
    "fig, axis = plt.subplots(figsize=(8,4), ncols=2)\n",
    "l2_pics = readcfl(\"l2_pics\")\n",
    "l2_pics_tf = readcfl(\"l2_pics_tf\")\n",
    "\n",
    "axis[0].imshow(abs(l2_pics), cmap='gray', interpolation='None')\n",
    "axis[1].imshow(abs(l2_pics_tf), cmap='gray', interpolation='None')\n",
    "axis[0].set_title(\"l2_pics\")\n",
    "axis[1].set_title(\"l2_pics_tf\")\n",
    "axis[0].axis('off')\n",
    "axis[1].axis('off')"
   ]
  },
  {
   "cell_type": "markdown",
   "id": "da05b37c",
   "metadata": {
    "id": "da05b37c"
   },
   "source": [
    "## Example 2: $R(x)=\\log p(x, net(x))$ "
   ]
  },
  {
   "cell_type": "code",
   "execution_count": null,
   "id": "a34231d2",
   "metadata": {
    "id": "a34231d2"
   },
   "outputs": [],
   "source": [
    "!ls prior/"
   ]
  },
  {
   "cell_type": "code",
   "execution_count": null,
   "id": "edc18970",
   "metadata": {
    "id": "edc18970"
   },
   "outputs": [],
   "source": [
    "# generate weights for density compensation\n",
    "writecfl(\"weights\", gen_weights(60, 256))           "
   ]
  },
  {
   "cell_type": "code",
   "execution_count": null,
   "id": "9b0b02b9",
   "metadata": {
    "id": "9b0b02b9",
    "scrolled": true
   },
   "outputs": [],
   "source": [
    "!bart pics -i30 -R TF:{./prior/pixel_cnn}:8 -d5 -e -I -p weights -t traj_256_c ksp_256_c coilsen_esp w_pics_prior"
   ]
  },
  {
   "cell_type": "code",
   "execution_count": null,
   "id": "7c32249b",
   "metadata": {
    "id": "7c32249b",
    "scrolled": true
   },
   "outputs": [],
   "source": [
    "import matplotlib.pyplot as plt\n",
    "pics_prior = readcfl(\"w_pics_prior\")\n",
    "fig, axis = plt.subplots(figsize=(12,4), ncols=3)\n",
    "\n",
    "axis[0].imshow(abs(l2_pics), cmap='gray', interpolation='None')\n",
    "axis[0].set_title(\"l2_pics\")\n",
    "axis[1].imshow(abs(l2_pics_tf), cmap='gray', interpolation='None')\n",
    "axis[1].set_title(\"l2_pics_tf\")\n",
    "axis[2].imshow(abs(pics_prior), cmap='gray', interpolation='None')\n",
    "axis[2].set_title(\"prior_pics\")\n",
    "axis[0].axis('off')\n",
    "axis[1].axis('off')\n",
    "axis[2].axis('off')\n"
   ]
  },
  {
   "cell_type": "code",
   "execution_count": null,
   "id": "2f804e22",
   "metadata": {
    "id": "2f804e22"
   },
   "outputs": [],
   "source": [
    "! bash clean"
   ]
  }
 ],
 "metadata": {
  "accelerator": "GPU",
  "colab": {
   "collapsed_sections": [],
   "name": "bart_tf.ipynb",
   "provenance": [],
   "toc_visible": true
  },
  "kernelspec": {
   "display_name": "Python [conda env:tf15] *",
   "language": "python",
   "name": "conda-env-tf15-py"
  },
  "language_info": {
   "codemirror_mode": {
    "name": "ipython",
    "version": 3
   },
   "file_extension": ".py",
   "mimetype": "text/x-python",
   "name": "python",
   "nbconvert_exporter": "python",
   "pygments_lexer": "ipython3",
   "version": "3.7.10"
  }
 },
 "nbformat": 4,
 "nbformat_minor": 5
}
