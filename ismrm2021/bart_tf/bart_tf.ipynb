{
 "cells": [
  {
   "cell_type": "markdown",
   "id": "11904043",
   "metadata": {},
   "source": [
    "# Enhance bart with tf computation graph\n",
    "\n",
    "Author: Guanxiong Luo<br />\n",
    "Email: guanxiong.luo@med.uni-goettingen.de\n",
    "\n",
    "## Overview\n",
    "This tutorial is to present how to create regularization term with tensorflow and use it for image reconstruction in bart.\n",
    "\n",
    "<img src=\"over.png\" width=\"800\"/>\n",
    "\n",
    "## What we have\n",
    "TensorFlow provides C API that can be used to build bindings for other languages. \n",
    "\n",
    "1. bart src/nn/tf_wrapper.c\n",
    "\n",
    "    * create tensors, create tf session\n",
    "\n",
    "    * import the exported graph\n",
    "\n",
    "    * restore the session from the saved model\n",
    "\n",
    "    * get operation nodes from the graph\n",
    "\n",
    "    * execute operation with session.run()\n",
    "\n",
    "\n",
    "2. TensorFlow C Libraries [2.4.0](https://storage.googleapis.com/tensorflow/libtensorflow/libtensorflow-gpu-linux-x86_64-2.4.0.tar.gz)\n",
    "\n",
    "3. A python program to export graph and weights (if any)\n",
    "\n",
    "## What you can do with tf graph\n",
    "\n",
    "1. we can create the regularization term $R(x)$ with tf graph for image reconstruction (integrated in bart pics).\n",
    "\n",
    "$$\\underset{x}{\\arg \\min}\\ \\|Ax-y\\|^2+\\lambda R(x)$$\n",
    "\n",
    "## What you can learn here\n",
    "\n",
    "1. simple example $R(x)=\\|x\\|^2$ without trainable weights\n",
    "\n",
    "2. $R(x)=\\log p(x, net(\\Theta,x))$ with trainable weights $\\Theta$, $net$ is represented as a prior [1]\n",
    "\n",
    "[1] Luo, G, Zhao, N, Jiang, W, Hui, ES, Cao, P. MRI reconstruction using deep Bayesian estimation. Magn Reson Med. 2020; 84: 2246– 2261. https://doi.org/10.1002/mrm.28274 <br />\n",
    "[2] Proc. Intl. Soc. Mag. Reson. Med. 29 (2021) P.1756"
   ]
  },
  {
   "cell_type": "markdown",
   "id": "3b544b17",
   "metadata": {},
   "source": [
    "## Part I: How to create tf graph for bart"
   ]
  },
  {
   "cell_type": "code",
   "execution_count": null,
   "id": "d9a21c71",
   "metadata": {
    "scrolled": true
   },
   "outputs": [],
   "source": [
    "import tensorflow.compat.v1 as tf\n",
    "tf.disable_eager_execution()\n",
    "\n",
    "if True:\n",
    "    import os\n",
    "    os.environ[\"CUDA_DEVICE_ORDER\"] = \"PCI_BUS_ID\"\n",
    "    os.environ[\"CUDA_VISIBLE_DEVICES\"] = \"2\"\n",
    "\n",
    "import numpy as np"
   ]
  },
  {
   "cell_type": "markdown",
   "id": "30b64c57",
   "metadata": {},
   "source": [
    "### Step 1: define input $x$"
   ]
  },
  {
   "cell_type": "code",
   "execution_count": null,
   "id": "d4d77905",
   "metadata": {},
   "outputs": [],
   "source": [
    "image_shape = [256, 256, 2]\n",
    "batch_size = 1\n",
    "\n",
    "# CAPI -> TF_GraphOperationByName(graph, \"input_0\")\n",
    "# give name with input_0, ..., input_I \n",
    "x = tf.placeholder(tf.float32,\n",
    "                   shape=[batch_size]+image_shape,\n",
    "                   name='input_0')\n",
    "v = tf.Variable(1.)\n",
    "x = x * v"
   ]
  },
  {
   "cell_type": "markdown",
   "id": "8e2719ae",
   "metadata": {},
   "source": [
    "### Step 2: define output $R(x)=\\|x\\|^2$"
   ]
  },
  {
   "cell_type": "code",
   "execution_count": null,
   "id": "f2920129",
   "metadata": {},
   "outputs": [],
   "source": [
    "l2 = tf.nn.l2_loss(x)#/np.product(image_shape)/batch_size        #R(x)=|x|^2\n",
    "# CAPI -> TF_GraphOperationByName(graph, \"output_0\") -> nlop forward\n",
    "# give name with output_0, ..., output_I\n",
    "output = tf.identity(tf.stack([l2, tf.ones_like(l2)], axis=-1), name='output_0') "
   ]
  },
  {
   "cell_type": "markdown",
   "id": "6e8f00fa",
   "metadata": {},
   "source": [
    "### Step 3: define the gradient of $R(x)=\\|x\\|^2$"
   ]
  },
  {
   "cell_type": "code",
   "execution_count": null,
   "id": "2d24fc05",
   "metadata": {},
   "outputs": [],
   "source": [
    "grad_ys = tf.placeholder(tf.float32,\n",
    "                         shape=[2],\n",
    "                         name='grad_ys_0')\n",
    "\n",
    "# CAPI -> TF_GraphOperationByName(graph, \"grad_0\") -> nlop adj\n",
    "grads = tf.squeeze(tf.gradients(output, x, grad_ys), name='grad_0') "
   ]
  },
  {
   "cell_type": "markdown",
   "id": "88c848b3",
   "metadata": {},
   "source": [
    "### Step 4: export graph and weights (if any)"
   ]
  },
  {
   "cell_type": "code",
   "execution_count": null,
   "id": "b0acc0c0",
   "metadata": {},
   "outputs": [],
   "source": [
    "from utils import export_model\n",
    "# export_model(model_path, exported_path, name, as_text, use_gpu):\n",
    "\n",
    "export_model(None, \"./\", \"l2_toy\", as_text=False, use_gpu=False)"
   ]
  },
  {
   "cell_type": "code",
   "execution_count": null,
   "id": "49f7dc3f",
   "metadata": {},
   "outputs": [],
   "source": [
    "!ls"
   ]
  },
  {
   "cell_type": "markdown",
   "id": "ce4a7796",
   "metadata": {},
   "source": [
    "##  Part II: How to use the graph in bart"
   ]
  },
  {
   "cell_type": "markdown",
   "id": "f1bfbc28",
   "metadata": {},
   "source": [
    "###  Step 1: set envs bart"
   ]
  },
  {
   "cell_type": "code",
   "execution_count": null,
   "id": "4879771d",
   "metadata": {
    "scrolled": true
   },
   "outputs": [],
   "source": [
    "%env LIBRARY_PATH=$LIBRARY_PATH:/home/gluo/local_lib/tensorflow/include \n",
    "%env LD_LIBRARY_PATH=$LD_LIBRARY_PATH:/home/gluo/local_lib/tensorflow/lib\n",
    "%env TF_CPP_MIN_LOG_LEVEL=3"
   ]
  },
  {
   "cell_type": "code",
   "execution_count": null,
   "id": "f465c6be",
   "metadata": {},
   "outputs": [],
   "source": [
    "# release the gpu\n",
    "import IPython\n",
    "IPython.Application.instance().kernel.do_shutdown(True) "
   ]
  },
  {
   "cell_type": "code",
   "execution_count": null,
   "id": "671b547c",
   "metadata": {},
   "outputs": [],
   "source": [
    "%%bash\n",
    "\n",
    "# set bart\n",
    "TOOLBOX_PATH=/home/gluo/bin/\n",
    "\n",
    "if [ ! -e $TOOLBOX_PATH/bart ] ; then\n",
    "    echo 'create symbolic link...'\n",
    "    ln -s /home/gluo/bart/bart /home/gluo/bin/bart\n",
    "fi\n",
    "which bart\n",
    "bart version\n"
   ]
  },
  {
   "cell_type": "markdown",
   "id": "743c3f4a",
   "metadata": {},
   "source": [
    "### Step 2: check help info"
   ]
  },
  {
   "cell_type": "code",
   "execution_count": null,
   "id": "1f613571",
   "metadata": {
    "scrolled": true
   },
   "outputs": [],
   "source": [
    "!bart pics -Rh"
   ]
  },
  {
   "cell_type": "markdown",
   "id": "dd4b2e2a",
   "metadata": {},
   "source": [
    "proximal operation on $R(x)$\n",
    "\n",
    "$$\\hat{x}=\\underset{x}{\\arg \\min} \\|x-v\\|^2 + \\lambda R(x)$$"
   ]
  },
  {
   "cell_type": "markdown",
   "id": "0e14c927",
   "metadata": {},
   "source": [
    "### Step 3: extract radial spokes and compute coil sensitivities"
   ]
  },
  {
   "cell_type": "code",
   "execution_count": null,
   "id": "7942ccc3",
   "metadata": {},
   "outputs": [],
   "source": [
    "%%bash\n",
    "# prepare coil sensitivities and radial spokes\n",
    "# explain the dimensions\n",
    "spokes=60\n",
    "nx=256\n",
    "\n",
    "bart extract 2 0 $spokes ksp_256 ksp_256_c\n",
    "bart extract 2 0 $spokes traj_256 traj_256_c"
   ]
  },
  {
   "cell_type": "code",
   "execution_count": null,
   "id": "d8c01fb3",
   "metadata": {},
   "outputs": [],
   "source": [
    "!head -n2 ksp_256_c.hdr"
   ]
  },
  {
   "cell_type": "code",
   "execution_count": null,
   "id": "7ca46fd4",
   "metadata": {},
   "outputs": [],
   "source": [
    "%%bash \n",
    "\n",
    "bart nufft -i traj_256_c ksp_256_c zero_filled\n",
    "bart fft $(bart bitmask 0 1) zero_filled grid_ksp\n",
    "bart ecalib -r20 -m1 -c0.0001 grid_ksp coilsen_esp"
   ]
  },
  {
   "cell_type": "markdown",
   "id": "3fcd3a99",
   "metadata": {},
   "source": [
    "## Example 1: $R(x)=\\|x\\|^2$"
   ]
  },
  {
   "cell_type": "code",
   "execution_count": null,
   "id": "334b8029",
   "metadata": {},
   "outputs": [],
   "source": [
    "%%bash\n",
    "\n",
    "graph_path=$(pwd)/l2_toy\n",
    "lambda=0.01\n",
    "\n",
    "bart pics -i100 -R TF:{$graph_path}:$lambda -d5 -e -t traj_256_c ksp_256_c coilsen_esp l2_pics_tf"
   ]
  },
  {
   "cell_type": "code",
   "execution_count": null,
   "id": "4d9f2471",
   "metadata": {},
   "outputs": [],
   "source": [
    "%%bash\n",
    "\n",
    "bart pics -l2 0.01 -e -t traj_256_c ksp_256_c coilsen_esp l2_pics"
   ]
  },
  {
   "cell_type": "code",
   "execution_count": null,
   "id": "029c7626",
   "metadata": {},
   "outputs": [],
   "source": [
    "from utils import *\n",
    "import matplotlib.pyplot as plt\n",
    "fig, axis = plt.subplots(figsize=(8,4), ncols=2)\n",
    "l2_pics = readcfl(\"l2_pics\")\n",
    "l2_pics_tf = readcfl(\"l2_pics_tf\")\n",
    "\n",
    "axis[0].imshow(abs(l2_pics), cmap='gray', interpolation='None')\n",
    "axis[1].imshow(abs(l2_pics_tf), cmap='gray', interpolation='None')\n",
    "axis[0].axis('off')\n",
    "axis[1].axis('off')"
   ]
  },
  {
   "cell_type": "markdown",
   "id": "da05b37c",
   "metadata": {},
   "source": [
    "## Example 2: $R(x)=\\log p(x, net(x))$ "
   ]
  },
  {
   "cell_type": "code",
   "execution_count": null,
   "id": "edc18970",
   "metadata": {},
   "outputs": [],
   "source": [
    "# generate weights for density compensation\n",
    "writecfl(\"weights\", gen_weights(60, 256))           "
   ]
  },
  {
   "cell_type": "code",
   "execution_count": null,
   "id": "a34231d2",
   "metadata": {},
   "outputs": [],
   "source": [
    "!ls prior/"
   ]
  },
  {
   "cell_type": "code",
   "execution_count": null,
   "id": "9b0b02b9",
   "metadata": {
    "scrolled": true
   },
   "outputs": [],
   "source": [
    "%%bash\n",
    "\n",
    "graph_path=/home/gluo/ISMRM/ismrm-2021-software-session/05_bart_tf/prior/pixel_cnn\n",
    "lp=10\n",
    "bart pics -i30 -R TF:{$graph_path}:$lp -d5 -e\\\n",
    "              -p weights \\\n",
    "              -t traj_256_c \\\n",
    "              ksp_256_c coilsen_esp w_pics_prior"
   ]
  },
  {
   "cell_type": "code",
   "execution_count": null,
   "id": "7c32249b",
   "metadata": {
    "scrolled": true
   },
   "outputs": [],
   "source": [
    "import matplotlib.pyplot as plt\n",
    "pics_prior = readcfl(\"w_pics_prior\")\n",
    "fig, axis = plt.subplots(figsize=(12,4), ncols=3)\n",
    "\n",
    "axis[0].imshow(abs(l2_pics), cmap='gray', interpolation='None')\n",
    "axis[0].set_title(\"l2_pics\")\n",
    "axis[1].imshow(abs(l2_pics_tf), cmap='gray', interpolation='None')\n",
    "axis[1].set_title(\"l2_pics_tf\")\n",
    "axis[2].imshow(abs(pics_prior), cmap='gray', interpolation='None')\n",
    "axis[2].set_title(\"prior_pics\")\n",
    "axis[0].axis('off')\n",
    "axis[1].axis('off')\n",
    "axis[2].axis('off')\n"
   ]
  },
  {
   "cell_type": "code",
   "execution_count": null,
   "id": "2f804e22",
   "metadata": {},
   "outputs": [],
   "source": [
    "! bash clean"
   ]
  },
  {
   "cell_type": "code",
   "execution_count": null,
   "id": "c88f3405",
   "metadata": {},
   "outputs": [],
   "source": []
  }
 ],
 "metadata": {
  "kernelspec": {
   "display_name": "Python [conda env:tf15] *",
   "language": "python",
   "name": "conda-env-tf15-py"
  },
  "language_info": {
   "codemirror_mode": {
    "name": "ipython",
    "version": 3
   },
   "file_extension": ".py",
   "mimetype": "text/x-python",
   "name": "python",
   "nbconvert_exporter": "python",
   "pygments_lexer": "ipython3",
   "version": "3.7.10"
  }
 },
 "nbformat": 4,
 "nbformat_minor": 5
}
