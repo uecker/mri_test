{
 "cells": [
  {
   "cell_type": "markdown",
   "id": "11904043",
   "metadata": {
    "id": "11904043"
   },
   "source": [
    "# Enhance bart with tf computation graph\n",
    "\n",
    "Author: Guanxiong Luo<br />\n",
    "Email: guanxiong.luo@med.uni-goettingen.de\n",
    "\n",
    "## Overview\n",
    "This tutorial is to present how to create regularization term with tensorflow and use it for image reconstruction in bart.\n",
    "\n",
    "<img src=\"over.png\" width=\"800\"/>\n",
    "\n",
    "## What we have\n",
    "TensorFlow provides C API that can be used to build bindings for other languages. \n",
    "\n",
    "1. bart src/nn/tf_wrapper.c\n",
    "\n",
    "    * create tensors, create tf session\n",
    "\n",
    "    * import the exported graph\n",
    "\n",
    "    * restore the session from the saved model\n",
    "\n",
    "    * get operation nodes from the graph\n",
    "\n",
    "    * execute operation with session.run()\n",
    "\n",
    "\n",
    "2. TensorFlow C Libraries [2.4.0](https://storage.googleapis.com/tensorflow/libtensorflow/libtensorflow-gpu-linux-x86_64-2.4.0.tar.gz)\n",
    "\n",
    "3. A python program to export graph and weights (if any)\n",
    "\n",
    "## What you can do with tf graph\n",
    "\n",
    "1. we can create the regularization term $R(x)$ with tf graph for image reconstruction (integrated in bart pics).\n",
    "\n",
    "$$\\underset{x}{\\arg \\min}\\ \\|Ax-y\\|^2+\\lambda R(x)$$\n",
    "\n",
    "## What you can learn here\n",
    "\n",
    "1. simple example $R(x)=\\|x\\|^2$ without trainable weights\n",
    "\n",
    "2. $R(x)=\\log p(x, net(\\Theta,x))$ with trainable weights $\\Theta$, $net$ is represented as a prior [1]\n",
    "\n",
    "[1] Luo, G, Zhao, N, Jiang, W, Hui, ES, Cao, P. MRI reconstruction using deep Bayesian estimation. Magn Reson Med. 2020; 84: 2246– 2261. https://doi.org/10.1002/mrm.28274 <br />\n",
    "[2] Proc. Intl. Soc. Mag. Reson. Med. 29 (2021) P.1756"
   ]
  },
  {
   "cell_type": "markdown",
   "id": "3b544b17",
   "metadata": {
    "id": "3b544b17"
   },
   "source": [
    "## Part I: How to create tf graph for bart"
   ]
  },
  {
   "cell_type": "code",
   "execution_count": null,
   "id": "d9a21c71",
   "metadata": {
    "id": "d9a21c71",
    "scrolled": true
   },
   "outputs": [],
   "source": [
    "import tensorflow.compat.v1 as tf\n",
    "tf.disable_eager_execution()\n",
    "\n",
    "if True:\n",
    "    import os\n",
    "    os.environ[\"CUDA_DEVICE_ORDER\"] = \"PCI_BUS_ID\"\n",
    "    os.environ[\"CUDA_VISIBLE_DEVICES\"] = \"0\"\n",
    "\n",
    "import numpy as np"
   ]
  },
  {
   "cell_type": "markdown",
   "id": "30b64c57",
   "metadata": {
    "id": "30b64c57"
   },
   "source": [
    "### Step 1: define input $x$"
   ]
  },
  {
   "cell_type": "code",
   "execution_count": null,
   "id": "d4d77905",
   "metadata": {
    "id": "d4d77905"
   },
   "outputs": [],
   "source": [
    "image_shape = [256, 256, 2]\n",
    "batch_size = 1\n",
    "\n",
    "# CAPI -> TF_GraphOperationByName(graph, \"input_0\")\n",
    "# give name with input_0, ..., input_I \n",
    "x = tf.placeholder(tf.float32,\n",
    "                   shape=[batch_size]+image_shape,\n",
    "                   name='input_0')\n",
    "v = tf.Variable(1.)\n",
    "x = x * v"
   ]
  },
  {
   "cell_type": "markdown",
   "id": "8e2719ae",
   "metadata": {
    "id": "8e2719ae"
   },
   "source": [
    "### Step 2: define output $R(x)=\\|x\\|^2$"
   ]
  },
  {
   "cell_type": "code",
   "execution_count": null,
   "id": "f2920129",
   "metadata": {
    "id": "f2920129"
   },
   "outputs": [],
   "source": [
    "l2 = tf.nn.l2_loss(x)#/np.product(image_shape)/batch_size        #R(x)=|x|^2\n",
    "# CAPI -> TF_GraphOperationByName(graph, \"output_0\") -> nlop forward\n",
    "# give name with output_0, ..., output_I\n",
    "output = tf.identity(tf.stack([l2, tf.ones_like(l2)], axis=-1), name='output_0') "
   ]
  },
  {
   "cell_type": "markdown",
   "id": "6e8f00fa",
   "metadata": {
    "id": "6e8f00fa"
   },
   "source": [
    "### Step 3: define the gradient of $R(x)=\\|x\\|^2$"
   ]
  },
  {
   "cell_type": "code",
   "execution_count": null,
   "id": "2d24fc05",
   "metadata": {
    "id": "2d24fc05"
   },
   "outputs": [],
   "source": [
    "grad_ys = tf.placeholder(tf.float32,\n",
    "                         shape=[2],\n",
    "                         name='grad_ys_0')\n",
    "\n",
    "# CAPI -> TF_GraphOperationByName(graph, \"grad_0\") -> nlop adj\n",
    "grads = tf.squeeze(tf.gradients(output, x, grad_ys), name='grad_0') "
   ]
  },
  {
   "cell_type": "markdown",
   "id": "88c848b3",
   "metadata": {
    "id": "88c848b3"
   },
   "source": [
    "### Step 4: export graph and weights (if any)"
   ]
  },
  {
   "cell_type": "code",
   "execution_count": null,
   "id": "b0acc0c0",
   "metadata": {
    "colab": {
     "base_uri": "https://localhost:8080/"
    },
    "id": "b0acc0c0",
    "outputId": "097bcdc1-597e-44d1-dd6c-3f72af686631"
   },
   "outputs": [],
   "source": [
    "from utils import export_model\n",
    "# export_model(model_path, exported_path, name, as_text, use_gpu):\n",
    "\n",
    "export_model(None, \"./\", \"l2_toy\", as_text=False, use_gpu=False)"
   ]
  },
  {
   "cell_type": "code",
   "execution_count": null,
   "id": "49f7dc3f",
   "metadata": {
    "colab": {
     "base_uri": "https://localhost:8080/"
    },
    "id": "49f7dc3f",
    "outputId": "e1ba81ad-466e-4025-cc2d-b1bd909b1052"
   },
   "outputs": [],
   "source": [
    "!ls"
   ]
  },
  {
   "cell_type": "code",
   "execution_count": null,
   "id": "f465c6be",
   "metadata": {
    "colab": {
     "base_uri": "https://localhost:8080/"
    },
    "id": "f465c6be",
    "outputId": "7e6309b3-9757-4477-b3d1-5b897fa34e86"
   },
   "outputs": [],
   "source": [
    "# release the gpu\n",
    "import IPython\n",
    "IPython.Application.instance().kernel.do_shutdown(True) "
   ]
  },
  {
   "cell_type": "markdown",
   "id": "ce4a7796",
   "metadata": {
    "id": "ce4a7796"
   },
   "source": [
    "##  Part II: How to use the graph in bart"
   ]
  },
  {
   "cell_type": "markdown",
   "id": "f1bfbc28",
   "metadata": {
    "id": "f1bfbc28"
   },
   "source": [
    "###  Step 1: set bart"
   ]
  },
  {
   "cell_type": "code",
   "execution_count": null,
   "id": "1ea147d2",
   "metadata": {
    "colab": {
     "base_uri": "https://localhost:8080/"
    },
    "id": "1ea147d2",
    "outputId": "b9282bf9-f5cb-4cdd-d582-28f43aeafc5b"
   },
   "outputs": [],
   "source": [
    "%%bash\n",
    "\n",
    "# Download tensorflow c libraries\n",
    "wget https://storage.googleapis.com/tensorflow/libtensorflow/libtensorflow-gpu-linux-x86_64-2.4.0.tar.gz\n",
    "mkdir tensorflow && tar -C tensorflow -xvzf libtensorflow-gpu-linux-x86_64-2.4.0.tar.gz"
   ]
  },
  {
   "cell_type": "code",
   "execution_count": null,
   "id": "146d0092",
   "metadata": {
    "colab": {
     "base_uri": "https://localhost:8080/"
    },
    "id": "146d0092",
    "outputId": "1cc31796-3323-463c-eb24-110209259b4c"
   },
   "outputs": [],
   "source": [
    "%%bash\n",
    "\n",
    "# Estimate GPU Type\n",
    "GPU_NAME=$(nvidia-smi --query-gpu=gpu_name --format=csv,noheader)\n",
    "\n",
    "echo \"GPU Type:\"\n",
    "echo $GPU_NAME\n",
    "\n",
    "if [ \"Tesla K80\" = \"$GPU_NAME\" ];\n",
    "then\n",
    "    echo \"GPU type Tesla K80 does not support CUDA 11. Set CUDA to version 10.1.\"\n",
    "\n",
    "    # Install CUDA-10.1 if not already installed\n",
    "    apt-get install cuda-10-1 cuda-drivers &> /dev/null\n",
    "\n",
    "    # Change default CUDA to version 10.1\n",
    "    cd /usr/local\n",
    "    rm cuda\n",
    "    ln -s cuda-10.1 cuda\n",
    "    cd /content\n",
    "\n",
    "else\n",
    "    echo \"GPU Information:\"\n",
    "    nvidia-smi --query-gpu=gpu_name,driver_version,memory.total --format=csv\n",
    "    nvcc --version\n",
    "    echo \"Current GPU supports default CUDA-11.\"\n",
    "    echo \"No further actions are necessary.\"\n",
    "fi\n",
    "\n",
    "\n",
    "# Install BARTs dependencies\n",
    "apt-get install -y make gcc libfftw3-dev liblapacke-dev libpng-dev libopenblas-dev &> /dev/null\n",
    "\n",
    "# Download BART version\n",
    "BRANCH=master\n",
    "[ -d /content/bart ] && rm -r /content/bart\n",
    "git clone https://github.com/mrirecon/bart/ bart\n",
    "\n",
    "[ -d \"bart\" ] && echo \"BART branch ${BRANCH} was downloaded successfully.\"\n",
    "\n",
    "cd bart\n",
    "\n",
    "# Switch to desired branch of the BART project\n",
    "git checkout $BRANCH\n",
    "\n",
    "# Define specifications \n",
    "COMPILE_SPECS=\" PARALLEL=4\n",
    "                CUDA=1\n",
    "                CUDA_BASE=/usr/local/cuda\n",
    "                CUDA_LIB=lib64\n",
    "                TENSORFLOW=1\n",
    "                TENSORFLOW_BASE=../tensorflow/\"\n",
    "\n",
    "printf \"%s\\n\" $COMPILE_SPECS > Makefiles/Makefile.local\n",
    "\n",
    "make &> /dev/null"
   ]
  },
  {
   "cell_type": "code",
   "execution_count": null,
   "id": "1cOk227HH3Vv",
   "metadata": {
    "colab": {
     "base_uri": "https://localhost:8080/"
    },
    "id": "1cOk227HH3Vv",
    "outputId": "7a1d4b1c-d32b-4bbe-ed32-707b7e8f6c5b"
   },
   "outputs": [],
   "source": [
    "%env LIBRARY_PATH=$LIBRARY_PATH:/content/tensorflow/include \n",
    "%env LD_LIBRARY_PATH=$LD_LIBRARY_PATH:/content/tensorflow/lib\n",
    "%env TF_CPP_MIN_LOG_LEVEL=3"
   ]
  },
  {
   "cell_type": "code",
   "execution_count": null,
   "id": "0RI9l6blElDF",
   "metadata": {
    "id": "0RI9l6blElDF"
   },
   "outputs": [],
   "source": [
    "import os\n",
    "import sys\n",
    "\n",
    "if not('TOOLBOX_PATH' in os.environ):\n",
    "    os.environ['TOOLBOX_PATH'] = \"/content/bart\"\n",
    "os.environ['PATH'] = os.environ['TOOLBOX_PATH'] + \":\" + os.environ['PATH']\n",
    "sys.path.append(os.environ['TOOLBOX_PATH'] + \"/python/\")"
   ]
  },
  {
   "cell_type": "markdown",
   "id": "743c3f4a",
   "metadata": {
    "id": "743c3f4a"
   },
   "source": [
    "### Step 2: check help info"
   ]
  },
  {
   "cell_type": "code",
   "execution_count": null,
   "id": "1f613571",
   "metadata": {
    "colab": {
     "base_uri": "https://localhost:8080/"
    },
    "id": "1f613571",
    "outputId": "6429ff8b-7993-4dd9-c841-dbb152c5c843",
    "scrolled": true
   },
   "outputs": [],
   "source": [
    "!bart pics -Rh"
   ]
  },
  {
   "cell_type": "markdown",
   "id": "dd4b2e2a",
   "metadata": {
    "id": "dd4b2e2a"
   },
   "source": [
    "proximal operation on $R(x)$\n",
    "\n",
    "$$\\hat{x}=\\underset{x}{\\arg \\min} \\|x-v\\|^2 + \\lambda R(x)$$"
   ]
  },
  {
   "cell_type": "markdown",
   "id": "0e14c927",
   "metadata": {
    "id": "0e14c927"
   },
   "source": [
    "### Step 3: extract radial spokes and compute coil sensitivities"
   ]
  },
  {
   "cell_type": "code",
   "execution_count": null,
   "id": "7942ccc3",
   "metadata": {
    "id": "7942ccc3"
   },
   "outputs": [],
   "source": [
    "%%bash\n",
    "# prepare coil sensitivities and radial spokes\n",
    "# explain the dimensions\n",
    "spokes=60\n",
    "nx=256\n",
    "\n",
    "bart extract 2 0 $spokes ksp_256 ksp_256_c\n",
    "bart extract 2 0 $spokes traj_256 traj_256_c"
   ]
  },
  {
   "cell_type": "code",
   "execution_count": null,
   "id": "d8c01fb3",
   "metadata": {
    "id": "d8c01fb3"
   },
   "outputs": [],
   "source": [
    "!head -n2 ksp_256_c.hdr"
   ]
  },
  {
   "cell_type": "code",
   "execution_count": null,
   "id": "7ca46fd4",
   "metadata": {
    "id": "7ca46fd4"
   },
   "outputs": [],
   "source": [
    "%%bash \n",
    "\n",
    "bart nufft -i traj_256_c ksp_256_c zero_filled\n",
    "bart fft $(bart bitmask 0 1) zero_filled grid_ksp\n",
    "bart ecalib -r20 -m1 -c0.0001 grid_ksp coilsen_esp"
   ]
  },
  {
   "cell_type": "markdown",
   "id": "3fcd3a99",
   "metadata": {
    "id": "3fcd3a99"
   },
   "source": [
    "## Example 1: $R(x)=\\|x\\|^2$"
   ]
  },
  {
   "cell_type": "code",
   "execution_count": null,
   "id": "334b8029",
   "metadata": {
    "id": "334b8029"
   },
   "outputs": [],
   "source": [
    "%%bash\n",
    "\n",
    "graph_path=$(pwd)/l2_toy\n",
    "lambda=0.01\n",
    "\n",
    "bart pics -i100 -R TF:{$graph_path}:$lambda -d5 -e -t traj_256_c ksp_256_c coilsen_esp l2_pics_tf"
   ]
  },
  {
   "cell_type": "code",
   "execution_count": null,
   "id": "4d9f2471",
   "metadata": {
    "id": "4d9f2471"
   },
   "outputs": [],
   "source": [
    "%%bash\n",
    "\n",
    "bart pics -l2 0.01 -e -d5 -t traj_256_c ksp_256_c coilsen_esp l2_pics"
   ]
  },
  {
   "cell_type": "code",
   "execution_count": null,
   "id": "029c7626",
   "metadata": {
    "id": "029c7626"
   },
   "outputs": [],
   "source": [
    "from utils import *\n",
    "import matplotlib.pyplot as plt\n",
    "fig, axis = plt.subplots(figsize=(8,4), ncols=2)\n",
    "l2_pics = readcfl(\"l2_pics\")\n",
    "l2_pics_tf = readcfl(\"l2_pics_tf\")\n",
    "\n",
    "axis[0].imshow(abs(l2_pics), cmap='gray', interpolation='None')\n",
    "axis[1].imshow(abs(l2_pics_tf), cmap='gray', interpolation='None')\n",
    "axis[0].set_title(\"l2_pics\")\n",
    "axis[1].set_title(\"l2_pics_tf\")\n",
    "axis[0].axis('off')\n",
    "axis[1].axis('off')"
   ]
  },
  {
   "cell_type": "markdown",
   "id": "da05b37c",
   "metadata": {
    "id": "da05b37c"
   },
   "source": [
    "## Example 2: $R(x)=\\log p(x, net(x))$ "
   ]
  },
  {
   "cell_type": "code",
   "execution_count": null,
   "id": "edc18970",
   "metadata": {
    "id": "edc18970"
   },
   "outputs": [],
   "source": [
    "# generate weights for density compensation\n",
    "writecfl(\"weights\", gen_weights(60, 256))           "
   ]
  },
  {
   "cell_type": "code",
   "execution_count": null,
   "id": "a34231d2",
   "metadata": {
    "id": "a34231d2"
   },
   "outputs": [],
   "source": [
    "!ls prior/"
   ]
  },
  {
   "cell_type": "code",
   "execution_count": 12,
   "id": "9b0b02b9",
   "metadata": {
    "id": "9b0b02b9",
    "scrolled": true
   },
   "outputs": [
    {
     "name": "stderr",
     "output_type": "stream",
     "text": [
      "2021-05-14 16:34:21.242982: W tensorflow/stream_executor/platform/default/dso_loader.cc:60] Could not load dynamic library 'libcudart.so.11.0'; dlerror: libcudart.so.11.0: cannot open shared object file: No such file or directory; LD_LIBRARY_PATH: /home/gluo/anaconda2/envs/tf15/cuda/lib::/home/gluo/anaconda2/envs/tf15/lib/python3.7/site-packages/tensorflow_core\n",
      "2021-05-14 16:34:21.243057: I tensorflow/stream_executor/cuda/cudart_stub.cc:29] Ignore above cudart dlerror if you do not have a GPU set up on your machine.\n",
      "Loading cfl file ksp_256_c\n",
      " : No such file or directory\n",
      "\u001b[31mERROR: \u001b[0mbash: line 7: 30427 Aborted                 bart pics -i30 -R TF:{$graph_path}:$lambda -d5 -e -I -p weights -t traj_256_c ksp_256_c coilsen_esp w_pics_prior\n"
     ]
    },
    {
     "ename": "CalledProcessError",
     "evalue": "Command 'b'\\ngraph_path=./prior/pixel_cnn\\nlambda=8\\nbart pics -i30 -R TF:{$graph_path}:$lambda -d5 -e -I\\\\\\n              -p weights   \\\\\\n              -t traj_256_c \\\\\\n              ksp_256_c coilsen_esp w_pics_prior\\n'' returned non-zero exit status 134.",
     "output_type": "error",
     "traceback": [
      "\u001b[0;31m---------------------------------------------------------------------------\u001b[0m",
      "\u001b[0;31mCalledProcessError\u001b[0m                        Traceback (most recent call last)",
      "\u001b[0;32m<ipython-input-12-b94821f87d85>\u001b[0m in \u001b[0;36m<module>\u001b[0;34m\u001b[0m\n\u001b[0;32m----> 1\u001b[0;31m \u001b[0mget_ipython\u001b[0m\u001b[0;34m(\u001b[0m\u001b[0;34m)\u001b[0m\u001b[0;34m.\u001b[0m\u001b[0mrun_cell_magic\u001b[0m\u001b[0;34m(\u001b[0m\u001b[0;34m'bash'\u001b[0m\u001b[0;34m,\u001b[0m \u001b[0;34m''\u001b[0m\u001b[0;34m,\u001b[0m \u001b[0;34m'\\ngraph_path=./prior/pixel_cnn\\nlambda=8\\nbart pics -i30 -R TF:{$graph_path}:$lambda -d5 -e -I\\\\\\n              -p weights   \\\\\\n              -t traj_256_c \\\\\\n              ksp_256_c coilsen_esp w_pics_prior\\n'\u001b[0m\u001b[0;34m)\u001b[0m\u001b[0;34m\u001b[0m\u001b[0;34m\u001b[0m\u001b[0m\n\u001b[0m",
      "\u001b[0;32m~/anaconda2/envs/tf15/lib/python3.7/site-packages/IPython/core/interactiveshell.py\u001b[0m in \u001b[0;36mrun_cell_magic\u001b[0;34m(self, magic_name, line, cell)\u001b[0m\n\u001b[1;32m   2397\u001b[0m             \u001b[0;32mwith\u001b[0m \u001b[0mself\u001b[0m\u001b[0;34m.\u001b[0m\u001b[0mbuiltin_trap\u001b[0m\u001b[0;34m:\u001b[0m\u001b[0;34m\u001b[0m\u001b[0;34m\u001b[0m\u001b[0m\n\u001b[1;32m   2398\u001b[0m                 \u001b[0margs\u001b[0m \u001b[0;34m=\u001b[0m \u001b[0;34m(\u001b[0m\u001b[0mmagic_arg_s\u001b[0m\u001b[0;34m,\u001b[0m \u001b[0mcell\u001b[0m\u001b[0;34m)\u001b[0m\u001b[0;34m\u001b[0m\u001b[0;34m\u001b[0m\u001b[0m\n\u001b[0;32m-> 2399\u001b[0;31m                 \u001b[0mresult\u001b[0m \u001b[0;34m=\u001b[0m \u001b[0mfn\u001b[0m\u001b[0;34m(\u001b[0m\u001b[0;34m*\u001b[0m\u001b[0margs\u001b[0m\u001b[0;34m,\u001b[0m \u001b[0;34m**\u001b[0m\u001b[0mkwargs\u001b[0m\u001b[0;34m)\u001b[0m\u001b[0;34m\u001b[0m\u001b[0;34m\u001b[0m\u001b[0m\n\u001b[0m\u001b[1;32m   2400\u001b[0m             \u001b[0;32mreturn\u001b[0m \u001b[0mresult\u001b[0m\u001b[0;34m\u001b[0m\u001b[0;34m\u001b[0m\u001b[0m\n\u001b[1;32m   2401\u001b[0m \u001b[0;34m\u001b[0m\u001b[0m\n",
      "\u001b[0;32m~/anaconda2/envs/tf15/lib/python3.7/site-packages/IPython/core/magics/script.py\u001b[0m in \u001b[0;36mnamed_script_magic\u001b[0;34m(line, cell)\u001b[0m\n\u001b[1;32m    140\u001b[0m             \u001b[0;32melse\u001b[0m\u001b[0;34m:\u001b[0m\u001b[0;34m\u001b[0m\u001b[0;34m\u001b[0m\u001b[0m\n\u001b[1;32m    141\u001b[0m                 \u001b[0mline\u001b[0m \u001b[0;34m=\u001b[0m \u001b[0mscript\u001b[0m\u001b[0;34m\u001b[0m\u001b[0;34m\u001b[0m\u001b[0m\n\u001b[0;32m--> 142\u001b[0;31m             \u001b[0;32mreturn\u001b[0m \u001b[0mself\u001b[0m\u001b[0;34m.\u001b[0m\u001b[0mshebang\u001b[0m\u001b[0;34m(\u001b[0m\u001b[0mline\u001b[0m\u001b[0;34m,\u001b[0m \u001b[0mcell\u001b[0m\u001b[0;34m)\u001b[0m\u001b[0;34m\u001b[0m\u001b[0;34m\u001b[0m\u001b[0m\n\u001b[0m\u001b[1;32m    143\u001b[0m \u001b[0;34m\u001b[0m\u001b[0m\n\u001b[1;32m    144\u001b[0m         \u001b[0;31m# write a basic docstring:\u001b[0m\u001b[0;34m\u001b[0m\u001b[0;34m\u001b[0m\u001b[0;34m\u001b[0m\u001b[0m\n",
      "\u001b[0;32m~/anaconda2/envs/tf15/lib/python3.7/site-packages/decorator.py\u001b[0m in \u001b[0;36mfun\u001b[0;34m(*args, **kw)\u001b[0m\n\u001b[1;32m    229\u001b[0m             \u001b[0;32mif\u001b[0m \u001b[0;32mnot\u001b[0m \u001b[0mkwsyntax\u001b[0m\u001b[0;34m:\u001b[0m\u001b[0;34m\u001b[0m\u001b[0;34m\u001b[0m\u001b[0m\n\u001b[1;32m    230\u001b[0m                 \u001b[0margs\u001b[0m\u001b[0;34m,\u001b[0m \u001b[0mkw\u001b[0m \u001b[0;34m=\u001b[0m \u001b[0mfix\u001b[0m\u001b[0;34m(\u001b[0m\u001b[0margs\u001b[0m\u001b[0;34m,\u001b[0m \u001b[0mkw\u001b[0m\u001b[0;34m,\u001b[0m \u001b[0msig\u001b[0m\u001b[0;34m)\u001b[0m\u001b[0;34m\u001b[0m\u001b[0;34m\u001b[0m\u001b[0m\n\u001b[0;32m--> 231\u001b[0;31m             \u001b[0;32mreturn\u001b[0m \u001b[0mcaller\u001b[0m\u001b[0;34m(\u001b[0m\u001b[0mfunc\u001b[0m\u001b[0;34m,\u001b[0m \u001b[0;34m*\u001b[0m\u001b[0;34m(\u001b[0m\u001b[0mextras\u001b[0m \u001b[0;34m+\u001b[0m \u001b[0margs\u001b[0m\u001b[0;34m)\u001b[0m\u001b[0;34m,\u001b[0m \u001b[0;34m**\u001b[0m\u001b[0mkw\u001b[0m\u001b[0;34m)\u001b[0m\u001b[0;34m\u001b[0m\u001b[0;34m\u001b[0m\u001b[0m\n\u001b[0m\u001b[1;32m    232\u001b[0m     \u001b[0mfun\u001b[0m\u001b[0;34m.\u001b[0m\u001b[0m__name__\u001b[0m \u001b[0;34m=\u001b[0m \u001b[0mfunc\u001b[0m\u001b[0;34m.\u001b[0m\u001b[0m__name__\u001b[0m\u001b[0;34m\u001b[0m\u001b[0;34m\u001b[0m\u001b[0m\n\u001b[1;32m    233\u001b[0m     \u001b[0mfun\u001b[0m\u001b[0;34m.\u001b[0m\u001b[0m__doc__\u001b[0m \u001b[0;34m=\u001b[0m \u001b[0mfunc\u001b[0m\u001b[0;34m.\u001b[0m\u001b[0m__doc__\u001b[0m\u001b[0;34m\u001b[0m\u001b[0;34m\u001b[0m\u001b[0m\n",
      "\u001b[0;32m~/anaconda2/envs/tf15/lib/python3.7/site-packages/IPython/core/magic.py\u001b[0m in \u001b[0;36m<lambda>\u001b[0;34m(f, *a, **k)\u001b[0m\n\u001b[1;32m    185\u001b[0m     \u001b[0;31m# but it's overkill for just that one bit of state.\u001b[0m\u001b[0;34m\u001b[0m\u001b[0;34m\u001b[0m\u001b[0;34m\u001b[0m\u001b[0m\n\u001b[1;32m    186\u001b[0m     \u001b[0;32mdef\u001b[0m \u001b[0mmagic_deco\u001b[0m\u001b[0;34m(\u001b[0m\u001b[0marg\u001b[0m\u001b[0;34m)\u001b[0m\u001b[0;34m:\u001b[0m\u001b[0;34m\u001b[0m\u001b[0;34m\u001b[0m\u001b[0m\n\u001b[0;32m--> 187\u001b[0;31m         \u001b[0mcall\u001b[0m \u001b[0;34m=\u001b[0m \u001b[0;32mlambda\u001b[0m \u001b[0mf\u001b[0m\u001b[0;34m,\u001b[0m \u001b[0;34m*\u001b[0m\u001b[0ma\u001b[0m\u001b[0;34m,\u001b[0m \u001b[0;34m**\u001b[0m\u001b[0mk\u001b[0m\u001b[0;34m:\u001b[0m \u001b[0mf\u001b[0m\u001b[0;34m(\u001b[0m\u001b[0;34m*\u001b[0m\u001b[0ma\u001b[0m\u001b[0;34m,\u001b[0m \u001b[0;34m**\u001b[0m\u001b[0mk\u001b[0m\u001b[0;34m)\u001b[0m\u001b[0;34m\u001b[0m\u001b[0;34m\u001b[0m\u001b[0m\n\u001b[0m\u001b[1;32m    188\u001b[0m \u001b[0;34m\u001b[0m\u001b[0m\n\u001b[1;32m    189\u001b[0m         \u001b[0;32mif\u001b[0m \u001b[0mcallable\u001b[0m\u001b[0;34m(\u001b[0m\u001b[0marg\u001b[0m\u001b[0;34m)\u001b[0m\u001b[0;34m:\u001b[0m\u001b[0;34m\u001b[0m\u001b[0;34m\u001b[0m\u001b[0m\n",
      "\u001b[0;32m~/anaconda2/envs/tf15/lib/python3.7/site-packages/IPython/core/magics/script.py\u001b[0m in \u001b[0;36mshebang\u001b[0;34m(self, line, cell)\u001b[0m\n\u001b[1;32m    243\u001b[0m             \u001b[0msys\u001b[0m\u001b[0;34m.\u001b[0m\u001b[0mstderr\u001b[0m\u001b[0;34m.\u001b[0m\u001b[0mflush\u001b[0m\u001b[0;34m(\u001b[0m\u001b[0;34m)\u001b[0m\u001b[0;34m\u001b[0m\u001b[0;34m\u001b[0m\u001b[0m\n\u001b[1;32m    244\u001b[0m         \u001b[0;32mif\u001b[0m \u001b[0margs\u001b[0m\u001b[0;34m.\u001b[0m\u001b[0mraise_error\u001b[0m \u001b[0;32mand\u001b[0m \u001b[0mp\u001b[0m\u001b[0;34m.\u001b[0m\u001b[0mreturncode\u001b[0m\u001b[0;34m!=\u001b[0m\u001b[0;36m0\u001b[0m\u001b[0;34m:\u001b[0m\u001b[0;34m\u001b[0m\u001b[0;34m\u001b[0m\u001b[0m\n\u001b[0;32m--> 245\u001b[0;31m             \u001b[0;32mraise\u001b[0m \u001b[0mCalledProcessError\u001b[0m\u001b[0;34m(\u001b[0m\u001b[0mp\u001b[0m\u001b[0;34m.\u001b[0m\u001b[0mreturncode\u001b[0m\u001b[0;34m,\u001b[0m \u001b[0mcell\u001b[0m\u001b[0;34m,\u001b[0m \u001b[0moutput\u001b[0m\u001b[0;34m=\u001b[0m\u001b[0mout\u001b[0m\u001b[0;34m,\u001b[0m \u001b[0mstderr\u001b[0m\u001b[0;34m=\u001b[0m\u001b[0merr\u001b[0m\u001b[0;34m)\u001b[0m\u001b[0;34m\u001b[0m\u001b[0;34m\u001b[0m\u001b[0m\n\u001b[0m\u001b[1;32m    246\u001b[0m \u001b[0;34m\u001b[0m\u001b[0m\n\u001b[1;32m    247\u001b[0m     \u001b[0;32mdef\u001b[0m \u001b[0m_run_script\u001b[0m\u001b[0;34m(\u001b[0m\u001b[0mself\u001b[0m\u001b[0;34m,\u001b[0m \u001b[0mp\u001b[0m\u001b[0;34m,\u001b[0m \u001b[0mcell\u001b[0m\u001b[0;34m,\u001b[0m \u001b[0mto_close\u001b[0m\u001b[0;34m)\u001b[0m\u001b[0;34m:\u001b[0m\u001b[0;34m\u001b[0m\u001b[0;34m\u001b[0m\u001b[0m\n",
      "\u001b[0;31mCalledProcessError\u001b[0m: Command 'b'\\ngraph_path=./prior/pixel_cnn\\nlambda=8\\nbart pics -i30 -R TF:{$graph_path}:$lambda -d5 -e -I\\\\\\n              -p weights   \\\\\\n              -t traj_256_c \\\\\\n              ksp_256_c coilsen_esp w_pics_prior\\n'' returned non-zero exit status 134."
     ]
    }
   ],
   "source": [
    "%%bash\n",
    "\n",
    "graph_path=./prior/pixel_cnn\n",
    "lamba=8\n",
    "bart pics -i30 -R TF:{$graph_path}:$lamba -d5 -e -I\\\n",
    "              -p weights   \\\n",
    "              -t traj_256_c \\\n",
    "              ksp_256_c coilsen_esp w_pics_prior"
   ]
  },
  {
   "cell_type": "code",
   "execution_count": null,
   "id": "7c32249b",
   "metadata": {
    "id": "7c32249b",
    "scrolled": true
   },
   "outputs": [],
   "source": [
    "import matplotlib.pyplot as plt\n",
    "pics_prior = readcfl(\"w_pics_prior\")\n",
    "fig, axis = plt.subplots(figsize=(12,4), ncols=3)\n",
    "\n",
    "axis[0].imshow(abs(l2_pics), cmap='gray', interpolation='None')\n",
    "axis[0].set_title(\"l2_pics\")\n",
    "axis[1].imshow(abs(l2_pics_tf), cmap='gray', interpolation='None')\n",
    "axis[1].set_title(\"l2_pics_tf\")\n",
    "axis[2].imshow(abs(pics_prior), cmap='gray', interpolation='None')\n",
    "axis[2].set_title(\"prior_pics\")\n",
    "axis[0].axis('off')\n",
    "axis[1].axis('off')\n",
    "axis[2].axis('off')\n"
   ]
  },
  {
   "cell_type": "code",
   "execution_count": null,
   "id": "2f804e22",
   "metadata": {
    "id": "2f804e22"
   },
   "outputs": [],
   "source": [
    "! bash clean"
   ]
  },
  {
   "cell_type": "code",
   "execution_count": null,
   "id": "c88f3405",
   "metadata": {
    "id": "c88f3405"
   },
   "outputs": [],
   "source": []
  }
 ],
 "metadata": {
  "accelerator": "GPU",
  "colab": {
   "collapsed_sections": [],
   "name": "bart_tf.ipynb",
   "provenance": [],
   "toc_visible": true
  },
  "kernelspec": {
   "display_name": "Python [conda env:tf15] *",
   "language": "python",
   "name": "conda-env-tf15-py"
  },
  "language_info": {
   "codemirror_mode": {
    "name": "ipython",
    "version": 3
   },
   "file_extension": ".py",
   "mimetype": "text/x-python",
   "name": "python",
   "nbconvert_exporter": "python",
   "pygments_lexer": "ipython3",
   "version": "3.7.10"
  }
 },
 "nbformat": 4,
 "nbformat_minor": 5
}
